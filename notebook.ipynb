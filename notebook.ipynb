{
 "cells": [
  {
   "cell_type": "code",
   "execution_count": 534,
   "metadata": {
    "collapsed": true,
    "pycharm": {
     "is_executing": false
    }
   },
   "outputs": [],
   "source": [
    "import numpy as np\n",
    "import pandas as pd\n",
    "import matplotlib.pyplot as plt\n",
    "%matplotlib inline\n",
    "import seaborn as sns\n",
    "color = sns.color_palette()\n",
    "sns.set_style('darkgrid')\n",
    "import warnings\n",
    "def ignore_warn(*args, **kwargs):\n",
    "    pass\n",
    "import gc\n",
    "from sklearn.linear_model import LogisticRegression\n",
    "from sklearn.ensemble import RandomForestClassifier\n",
    "from sklearn.metrics import f1_score\n",
    "from sklearn.metrics import roc_auc_score\n",
    "from sklearn.model_selection import train_test_split\n",
    "from sklearn.metrics import classification_report, confusion_matrix, accuracy_score\n",
    "from sklearn.model_selection import GridSearchCV\n",
    "from sklearn.metrics import accuracy_score"
   ]
  },
  {
   "cell_type": "code",
   "execution_count": 535,
   "outputs": [],
   "source": [
    "\n",
    "TRAIN_PATH = 'train.csv'\n",
    "TEST_PATH = 'test.csv'\n",
    "\n",
    "\n",
    "df = pd.read_csv(TRAIN_PATH)\n",
    "X_final = pd.read_csv(TEST_PATH)"
   ],
   "metadata": {
    "collapsed": false,
    "pycharm": {
     "name": "#%%\n",
     "is_executing": false
    }
   }
  },
  {
   "cell_type": "code",
   "execution_count": 536,
   "outputs": [
    {
     "name": "stdout",
     "text": [
      "Строк в трейне: 891\nСтрок в тесте 418\n"
     ],
     "output_type": "stream"
    }
   ],
   "source": [
    "\n",
    "X = df.drop('Survived', axis=1)\n",
    "y = df[['Survived']]\n",
    "X.set_index('PassengerId', inplace=True)\n",
    "X_final.set_index('PassengerId', inplace=True)\n",
    "\n",
    "print('Строк в трейне:' ,  X.shape[0])\n",
    "print('Строк в тесте', X_final.shape[0])\n"
   ],
   "metadata": {
    "collapsed": false,
    "pycharm": {
     "name": "#%%\n",
     "is_executing": false
    }
   }
  },
  {
   "cell_type": "code",
   "execution_count": 536,
   "outputs": [],
   "source": [],
   "metadata": {
    "collapsed": false,
    "pycharm": {
     "name": "#%%\n",
     "is_executing": false
    }
   }
  },
  {
   "cell_type": "code",
   "execution_count": 536,
   "outputs": [],
   "source": [],
   "metadata": {
    "collapsed": false,
    "pycharm": {
     "name": "#%%\n",
     "is_executing": false
    }
   }
  },
  {
   "cell_type": "code",
   "execution_count": 537,
   "outputs": [
    {
     "name": "stderr",
     "text": [
      "c:\\users\\daneeeek\\appdata\\local\\programs\\python\\python38\\lib\\site-packages\\seaborn\\_decorators.py:36: FutureWarning: Pass the following variables as keyword args: x, y. From version 0.12, the only valid positional argument will be `data`, and passing other arguments without an explicit keyword will result in an error or misinterpretation.\n  warnings.warn(\n"
     ],
     "output_type": "stream"
    },
    {
     "data": {
      "text/plain": "<Figure size 1152x288 with 1 Axes>",
      "image/png": "[encoded data removed]"
     },
     "metadata": {},
     "output_type": "display_data"
    }
   ],
   "source": [
    "nan_df = (X.isna().sum() / X.shape[0]).reset_index()\n",
    "nan_df.columns=['feature', 'nan_percent']\n",
    "\n",
    "plt.figure(figsize=(16,4))\n",
    "sns.barplot(nan_df['feature'], nan_df['nan_percent'])\n",
    "plt.title('Percent Missing')\n",
    "plt.ylabel('Missing', fontsize=12)\n",
    "plt.xlabel('Features', fontsize=12)\n",
    "plt.xticks(rotation=90)\n",
    "plt.show()"
   ],
   "metadata": {
    "collapsed": false,
    "pycharm": {
     "name": "#%%\n",
     "is_executing": false
    }
   }
  },
  {
   "cell_type": "code",
   "execution_count": 538,
   "outputs": [],
   "source": [
    "# pal = dict(male=\"#6495ED\", female=\"#F08080\")\n",
    "# \n",
    "# g = sns.lmplot(x=\"Fare\", y=\"Survived\", col=\"Sex\", hue=\"Sex\", data=df,\n",
    "#                palette=pal, y_jitter=.02, logistic=True, truncate=False)\n",
    "# g.set(xlim=(0, 300), ylim=(-.05, 1.05))\n",
    "# \n",
    "# g2 = sns.lmplot(x=\"Age\", y=\"Survived\", col=\"Sex\", hue=\"Sex\", data=df,\n",
    "#                palette=pal, y_jitter=.02, logistic=True, truncate=False)\n",
    "# g2.set(xlim=(0, 80), ylim=(-.05, 1.05))\n",
    "# \n",
    "# g2 = sns.lmplot(x=\"SibSp\", y=\"Survived\", col=\"Sex\", hue=\"Sex\", data=df,\n",
    "#                palette=pal, y_jitter=.02, logistic=True, truncate=False)\n",
    "# g2.set(xlim=(0, 10), ylim=(-.05, 1.05))\n",
    "# g2.savefig('Rodnie.png')\n",
    "# \n",
    "# \n",
    "# X['Age'].max()\n"
   ],
   "metadata": {
    "collapsed": false,
    "pycharm": {
     "name": "#%%\n",
     "is_executing": false
    }
   }
  },
  {
   "cell_type": "code",
   "execution_count": 539,
   "outputs": [],
   "source": [
    "\n",
    "# g3 = sns.scatterplot(x=\"Age\", y=\"Fare\",\n",
    "#              hue=\"Sex\",\n",
    "#              data=df,)\n",
    "# g3.figure.savefig('Bilti.png', dpi=400)\n",
    "# \n",
    "# g4 = sns.lmplot(x=\"Age\", y=\"Fare\", col=\"Sex\", hue=\"Sex\", data=df,\n",
    "#                palette=pal, y_jitter=.02, truncate=False)\n",
    "# g4.savefig('Age-Fare.png', dpi=400)\n",
    "# \n",
    "# g5 = sns.lmplot(x=\"Pclass\", y=\"Survived\", col=\"Sex\", hue=\"Sex\", data=df,\n",
    "#                palette=pal, y_jitter=.02, truncate=False)"
   ],
   "metadata": {
    "collapsed": false,
    "pycharm": {
     "name": "#%%\n",
     "is_executing": false
    }
   }
  },
  {
   "cell_type": "code",
   "execution_count": 540,
   "outputs": [
    {
     "name": "stdout",
     "text": [
      "Overall survived 0.38%\nMen survived     18.89%\nWomen survived   74.2%\n"
     ],
     "output_type": "stream"
    }
   ],
   "source": [
    "# 109/577 m 233 /314\n",
    "\n",
    "female = df.loc[df['Sex'] == 'female']\n",
    "male = df.loc[df['Sex'] == 'male']\n",
    "male_surv = round(len(male.loc[male['Survived'] == 1]) / len(male) * 100, 2)\n",
    "female_surv = round(len(female.loc[female['Survived'] == 1]) / len(female) * 100, 2)\n",
    "surv = round(len(df.loc[df['Survived'] == 1]) / len(df), 2)\n",
    "print(f'Overall survived {surv}%\\nMen survived     {male_surv}%\\nWomen survived   {female_surv}%')\n",
    "\n"
   ],
   "metadata": {
    "collapsed": false,
    "pycharm": {
     "name": "#%%\n",
     "is_executing": false
    }
   }
  },
  {
   "cell_type": "code",
   "execution_count": 540,
   "outputs": [],
   "source": [],
   "metadata": {
    "collapsed": false,
    "pycharm": {
     "name": "#%%\n",
     "is_executing": false
    }
   }
  },
  {
   "cell_type": "code",
   "execution_count": 540,
   "outputs": [],
   "source": [],
   "metadata": {
    "collapsed": false,
    "pycharm": {
     "name": "#%%\n",
     "is_executing": false
    }
   }
  },
  {
   "cell_type": "code",
   "execution_count": 541,
   "outputs": [],
   "source": [
    "\n",
    "class FeaturesImputer():\n",
    "    \"\"\" Заполнение пропусков и обработка выбросов \"\"\"\n",
    "    def __init__(self):\n",
    "        self.medians=None\n",
    "        self.mode=None\n",
    "        self.male_medians=None\n",
    "        self.female_medians=None\n",
    "        \n",
    "    def fit(self, X):\n",
    "        \n",
    "        self.medians = X.median()\n",
    "        self.mode = X.mode()\n",
    "        self.male_medians = X.loc[X['Sex'] == 'male'].median()\n",
    "        self.female_medians = X.loc[X['Sex'] == 'female'].median()\n",
    "        \n",
    "    def transform(self, X):\n",
    "        \n",
    "        if 'Cabin' in X.columns:\n",
    "            X.drop('Cabin', axis=1, inplace=True)\n",
    "            \n",
    "        X['Age_outlier'] = 0\n",
    "        X.loc[X['Age'].isna(), 'Age_outlier'] = 1\n",
    "        #X.loc[X['Age'].isna(), 'Age'] = self.medians['Age']\n",
    "        X.loc[(X['Age'].isna()) & (X['Sex'] == 'male'), 'Age'] = self.male_medians['Age']\n",
    "        X.loc[(X['Age'].isna()) & (X['Sex'] == 'female'), 'Age'] = self.female_medians['Age']\n",
    "        \n",
    "        X['Fare_outlier'] = 0\n",
    "        X.loc[X['Fare'].isna(), 'Fare_outlier'] = 1\n",
    "        X.loc[X['Fare'].isna(), 'Fare'] = self.medians['Fare']\n",
    "        \n",
    "        \n",
    "        \n",
    "        return X"
   ],
   "metadata": {
    "collapsed": false,
    "pycharm": {
     "name": "#%%\n",
     "is_executing": false
    }
   }
  },
  {
   "cell_type": "code",
   "execution_count": 542,
   "outputs": [],
   "source": [
    "\n",
    "class FeaturesGenerator():\n",
    "    \"\"\"Генерация новых фич\"\"\"\n",
    "    \n",
    "    def __init__(self):\n",
    "        self.kek = None\n",
    "    \n",
    "    def fit(self, X):\n",
    "        self.todo = 'ok'\n",
    "        \n",
    "        \n",
    "    def transform(self, X):\n",
    "        \n",
    "        #Категоризация признаков\n",
    "        \n",
    "        X = self.pclass_to_cat(X)\n",
    "        X = self.embarked_to_cat(X)\n",
    "        X = self.sex_to_cat(X)\n",
    "        \n",
    "        # Если у пассажира есть родственники, то IsAlone = 0\n",
    "        X['Is_Alone'] = 1\n",
    "        X.loc[(X['SibSp'] > 0) & (X['Parch'] > 0), 'Is_Alone'] = 0\n",
    "        \n",
    "        #\n",
    "        X['With_Nanny'] = 0\n",
    "        X.loc[(X['Age'] < 14) & (X['Parch'] == 0), 'With_Nanny'] = 1\n",
    "        \n",
    "        \n",
    "        # X['Age/Fare'] = 0\n",
    "        # X.loc[X['Fare'] != 0, 'Age/Fare'] = X['Age'] / X['Fare'] ухудшается скор\n",
    "        \n",
    "        \n",
    "    \n",
    "    @staticmethod\n",
    "    def sex_to_cat(X):\n",
    "        X['cat_Male'] = 0\n",
    "        X['cat_Female'] = 0\n",
    "        X.loc[X['Sex'] == 'male', 'cat_Male'] = 1\n",
    "        X.loc[X['Sex'] == 'female', 'cat_Female'] = 1\n",
    "        X['cat_Male'] = X['cat_Male'].fillna(0)\n",
    "        X['cat_Female'] = X['cat_Female'].fillna(0)\n",
    "        return X\n",
    "        \n",
    "    @staticmethod \n",
    "    def pclass_to_cat(X):\n",
    "        X['cat_Pclass_1'] = 0\n",
    "        X['cat_Pclass_2'] = 0\n",
    "        X['cat_Pclass_3'] = 0\n",
    "        X.loc[X['Pclass'] == 1, 'cat_Pclass_1'] = 1\n",
    "        X.loc[X['Pclass'] == 2, 'cat_Pclass_2'] = 1\n",
    "        X.loc[X['Pclass'] == 3, 'cat_Pclass_3'] = 1\n",
    "        return X\n",
    "        \n",
    "    @staticmethod\n",
    "    def embarked_to_cat(X):\n",
    "        X['cat_Embarked_Cherbourg'] = 0\n",
    "        X['cat_Embarked_Queenstown'] = 0\n",
    "        X['cat_Embarked_Southampton'] = 0\n",
    "        X.loc[X['Embarked'] == 'C', 'cat_Embarked_Cherbourg'] = 1\n",
    "        X.loc[X['Embarked'] == 'Q', 'cat_Embarked_Queenstown'] = 1\n",
    "        X.loc[X['Embarked'] == 'S', 'cat_Embarked_Southampton'] = 1\n",
    "        \n",
    "        return X\n",
    "\n"
   ],
   "metadata": {
    "collapsed": false,
    "pycharm": {
     "name": "#%%\n",
     "is_executing": false
    }
   }
  },
  {
   "cell_type": "code",
   "execution_count": 543,
   "outputs": [
    {
     "data": {
      "text/plain": "Pclass                      0\nName                        0\nSex                         0\nAge                         0\nSibSp                       0\nParch                       0\nTicket                      0\nFare                        0\nEmbarked                    0\nAge_outlier                 0\nFare_outlier                0\ncat_Pclass_1                0\ncat_Pclass_2                0\ncat_Pclass_3                0\ncat_Embarked_Cherbourg      0\ncat_Embarked_Queenstown     0\ncat_Embarked_Southampton    0\ncat_Male                    0\ncat_Female                  0\nIs_Alone                    0\nWith_Nanny                  0\ndtype: int64"
     },
     "metadata": {},
     "output_type": "execute_result",
     "execution_count": 543
    }
   ],
   "source": [
    "fix_data = FeaturesImputer()\n",
    "features = FeaturesGenerator()\n",
    "fix_data.fit(X)\n",
    "fix_data.transform(X)\n",
    "features.transform(X)\n",
    "fix_data.transform(X_final)\n",
    "features.transform(X_final)\n",
    "\n",
    "\n",
    "X_final.isna().sum()"
   ],
   "metadata": {
    "collapsed": false,
    "pycharm": {
     "name": "#%%\n",
     "is_executing": false
    }
   }
  },
  {
   "cell_type": "code",
   "execution_count": 544,
   "outputs": [],
   "source": [
    "X_train, X_test, y_train, y_test = train_test_split(X, y, test_size=0.2, random_state=42)"
   ],
   "metadata": {
    "collapsed": false,
    "pycharm": {
     "name": "#%%\n",
     "is_executing": false
    }
   }
  },
  {
   "cell_type": "code",
   "execution_count": 545,
   "outputs": [
    {
     "data": {
      "text/plain": "             Pclass                                Name     Sex   Age  SibSp  \\\nPassengerId                                                                    \n332               1                 Partner, Mr. Austen    male  45.5      0   \n734               2          Berriman, Mr. William John    male  23.0      0   \n383               3                  Tikkanen, Mr. Juho    male  32.0      0   \n705               3             Hansen, Mr. Henrik Juul    male  26.0      1   \n814               3  Andersson, Miss. Ebba Iris Alfrida  female   6.0      4   \n...             ...                                 ...     ...   ...    ...   \n107               3    Salkjelsvik, Miss. Anna Kristine  female  21.0      0   \n271               1               Cairns, Mr. Alexander    male  29.0      0   \n861               3             Hansen, Mr. Claus Peter    male  41.0      2   \n436               1           Carter, Miss. Lucile Polk  female  14.0      1   \n103               1           White, Mr. Richard Frasar    male  21.0      0   \n\n             Parch             Ticket      Fare Embarked  Age_outlier  ...  \\\nPassengerId                                                            ...   \n332              0             113043   28.5000        S            0  ...   \n734              0              28425   13.0000        S            0  ...   \n383              0  STON/O 2. 3101293    7.9250        S            0  ...   \n705              0             350025    7.8542        S            0  ...   \n814              2             347082   31.2750        S            0  ...   \n...            ...                ...       ...      ...          ...  ...   \n107              0             343120    7.6500        S            0  ...   \n271              0             113798   31.0000        S            1  ...   \n861              0             350026   14.1083        S            0  ...   \n436              2             113760  120.0000        S            0  ...   \n103              1              35281   77.2875        S            0  ...   \n\n             cat_Pclass_1  cat_Pclass_2  cat_Pclass_3  cat_Embarked_Cherbourg  \\\nPassengerId                                                                     \n332                     1             0             0                       0   \n734                     0             1             0                       0   \n383                     0             0             1                       0   \n705                     0             0             1                       0   \n814                     0             0             1                       0   \n...                   ...           ...           ...                     ...   \n107                     0             0             1                       0   \n271                     1             0             0                       0   \n861                     0             0             1                       0   \n436                     1             0             0                       0   \n103                     1             0             0                       0   \n\n             cat_Embarked_Queenstown  cat_Embarked_Southampton  cat_Male  \\\nPassengerId                                                                \n332                                0                         1         1   \n734                                0                         1         1   \n383                                0                         1         1   \n705                                0                         1         1   \n814                                0                         1         0   \n...                              ...                       ...       ...   \n107                                0                         1         0   \n271                                0                         1         1   \n861                                0                         1         1   \n436                                0                         1         0   \n103                                0                         1         1   \n\n             cat_Female  Is_Alone  With_Nanny  \nPassengerId                                    \n332                   0         1           0  \n734                   0         1           0  \n383                   0         1           0  \n705                   0         1           0  \n814                   1         0           0  \n...                 ...       ...         ...  \n107                   1         1           0  \n271                   0         1           0  \n861                   0         1           0  \n436                   1         0           0  \n103                   0         1           0  \n\n[712 rows x 21 columns]",
      "text/html": "<div>\n<style scoped>\n    .dataframe tbody tr th:only-of-type {\n        vertical-align: middle;\n    }\n\n    .dataframe tbody tr th {\n        vertical-align: top;\n    }\n\n    .dataframe thead th {\n        text-align: right;\n    }\n</style>\n<table border=\"1\" class=\"dataframe\">\n  <thead>\n    <tr style=\"text-align: right;\">\n      <th></th>\n      <th>Pclass</th>\n      <th>Name</th>\n      <th>Sex</th>\n      <th>Age</th>\n      <th>SibSp</th>\n      <th>Parch</th>\n      <th>Ticket</th>\n      <th>Fare</th>\n      <th>Embarked</th>\n      <th>Age_outlier</th>\n      <th>...</th>\n      <th>cat_Pclass_1</th>\n      <th>cat_Pclass_2</th>\n      <th>cat_Pclass_3</th>\n      <th>cat_Embarked_Cherbourg</th>\n      <th>cat_Embarked_Queenstown</th>\n      <th>cat_Embarked_Southampton</th>\n      <th>cat_Male</th>\n      <th>cat_Female</th>\n      <th>Is_Alone</th>\n      <th>With_Nanny</th>\n    </tr>\n    <tr>\n      <th>PassengerId</th>\n      <th></th>\n      <th></th>\n      <th></th>\n      <th></th>\n      <th></th>\n      <th></th>\n      <th></th>\n      <th></th>\n      <th></th>\n      <th></th>\n      <th></th>\n      <th></th>\n      <th></th>\n      <th></th>\n      <th></th>\n      <th></th>\n      <th></th>\n      <th></th>\n      <th></th>\n      <th></th>\n      <th></th>\n    </tr>\n  </thead>\n  <tbody>\n    <tr>\n      <th>332</th>\n      <td>1</td>\n      <td>Partner, Mr. Austen</td>\n      <td>male</td>\n      <td>45.5</td>\n      <td>0</td>\n      <td>0</td>\n      <td>113043</td>\n      <td>28.5000</td>\n      <td>S</td>\n      <td>0</td>\n      <td>...</td>\n      <td>1</td>\n      <td>0</td>\n      <td>0</td>\n      <td>0</td>\n      <td>0</td>\n      <td>1</td>\n      <td>1</td>\n      <td>0</td>\n      <td>1</td>\n      <td>0</td>\n    </tr>\n    <tr>\n      <th>734</th>\n      <td>2</td>\n      <td>Berriman, Mr. William John</td>\n      <td>male</td>\n      <td>23.0</td>\n      <td>0</td>\n      <td>0</td>\n      <td>28425</td>\n      <td>13.0000</td>\n      <td>S</td>\n      <td>0</td>\n      <td>...</td>\n      <td>0</td>\n      <td>1</td>\n      <td>0</td>\n      <td>0</td>\n      <td>0</td>\n      <td>1</td>\n      <td>1</td>\n      <td>0</td>\n      <td>1</td>\n      <td>0</td>\n    </tr>\n    <tr>\n      <th>383</th>\n      <td>3</td>\n      <td>Tikkanen, Mr. Juho</td>\n      <td>male</td>\n      <td>32.0</td>\n      <td>0</td>\n      <td>0</td>\n      <td>STON/O 2. 3101293</td>\n      <td>7.9250</td>\n      <td>S</td>\n      <td>0</td>\n      <td>...</td>\n      <td>0</td>\n      <td>0</td>\n      <td>1</td>\n      <td>0</td>\n      <td>0</td>\n      <td>1</td>\n      <td>1</td>\n      <td>0</td>\n      <td>1</td>\n      <td>0</td>\n    </tr>\n    <tr>\n      <th>705</th>\n      <td>3</td>\n      <td>Hansen, Mr. Henrik Juul</td>\n      <td>male</td>\n      <td>26.0</td>\n      <td>1</td>\n      <td>0</td>\n      <td>350025</td>\n      <td>7.8542</td>\n      <td>S</td>\n      <td>0</td>\n      <td>...</td>\n      <td>0</td>\n      <td>0</td>\n      <td>1</td>\n      <td>0</td>\n      <td>0</td>\n      <td>1</td>\n      <td>1</td>\n      <td>0</td>\n      <td>1</td>\n      <td>0</td>\n    </tr>\n    <tr>\n      <th>814</th>\n      <td>3</td>\n      <td>Andersson, Miss. Ebba Iris Alfrida</td>\n      <td>female</td>\n      <td>6.0</td>\n      <td>4</td>\n      <td>2</td>\n      <td>347082</td>\n      <td>31.2750</td>\n      <td>S</td>\n      <td>0</td>\n      <td>...</td>\n      <td>0</td>\n      <td>0</td>\n      <td>1</td>\n      <td>0</td>\n      <td>0</td>\n      <td>1</td>\n      <td>0</td>\n      <td>1</td>\n      <td>0</td>\n      <td>0</td>\n    </tr>\n    <tr>\n      <th>...</th>\n      <td>...</td>\n      <td>...</td>\n      <td>...</td>\n      <td>...</td>\n      <td>...</td>\n      <td>...</td>\n      <td>...</td>\n      <td>...</td>\n      <td>...</td>\n      <td>...</td>\n      <td>...</td>\n      <td>...</td>\n      <td>...</td>\n      <td>...</td>\n      <td>...</td>\n      <td>...</td>\n      <td>...</td>\n      <td>...</td>\n      <td>...</td>\n      <td>...</td>\n      <td>...</td>\n    </tr>\n    <tr>\n      <th>107</th>\n      <td>3</td>\n      <td>Salkjelsvik, Miss. Anna Kristine</td>\n      <td>female</td>\n      <td>21.0</td>\n      <td>0</td>\n      <td>0</td>\n      <td>343120</td>\n      <td>7.6500</td>\n      <td>S</td>\n      <td>0</td>\n      <td>...</td>\n      <td>0</td>\n      <td>0</td>\n      <td>1</td>\n      <td>0</td>\n      <td>0</td>\n      <td>1</td>\n      <td>0</td>\n      <td>1</td>\n      <td>1</td>\n      <td>0</td>\n    </tr>\n    <tr>\n      <th>271</th>\n      <td>1</td>\n      <td>Cairns, Mr. Alexander</td>\n      <td>male</td>\n      <td>29.0</td>\n      <td>0</td>\n      <td>0</td>\n      <td>113798</td>\n      <td>31.0000</td>\n      <td>S</td>\n      <td>1</td>\n      <td>...</td>\n      <td>1</td>\n      <td>0</td>\n      <td>0</td>\n      <td>0</td>\n      <td>0</td>\n      <td>1</td>\n      <td>1</td>\n      <td>0</td>\n      <td>1</td>\n      <td>0</td>\n    </tr>\n    <tr>\n      <th>861</th>\n      <td>3</td>\n      <td>Hansen, Mr. Claus Peter</td>\n      <td>male</td>\n      <td>41.0</td>\n      <td>2</td>\n      <td>0</td>\n      <td>350026</td>\n      <td>14.1083</td>\n      <td>S</td>\n      <td>0</td>\n      <td>...</td>\n      <td>0</td>\n      <td>0</td>\n      <td>1</td>\n      <td>0</td>\n      <td>0</td>\n      <td>1</td>\n      <td>1</td>\n      <td>0</td>\n      <td>1</td>\n      <td>0</td>\n    </tr>\n    <tr>\n      <th>436</th>\n      <td>1</td>\n      <td>Carter, Miss. Lucile Polk</td>\n      <td>female</td>\n      <td>14.0</td>\n      <td>1</td>\n      <td>2</td>\n      <td>113760</td>\n      <td>120.0000</td>\n      <td>S</td>\n      <td>0</td>\n      <td>...</td>\n      <td>1</td>\n      <td>0</td>\n      <td>0</td>\n      <td>0</td>\n      <td>0</td>\n      <td>1</td>\n      <td>0</td>\n      <td>1</td>\n      <td>0</td>\n      <td>0</td>\n    </tr>\n    <tr>\n      <th>103</th>\n      <td>1</td>\n      <td>White, Mr. Richard Frasar</td>\n      <td>male</td>\n      <td>21.0</td>\n      <td>0</td>\n      <td>1</td>\n      <td>35281</td>\n      <td>77.2875</td>\n      <td>S</td>\n      <td>0</td>\n      <td>...</td>\n      <td>1</td>\n      <td>0</td>\n      <td>0</td>\n      <td>0</td>\n      <td>0</td>\n      <td>1</td>\n      <td>1</td>\n      <td>0</td>\n      <td>1</td>\n      <td>0</td>\n    </tr>\n  </tbody>\n</table>\n<p>712 rows × 21 columns</p>\n</div>"
     },
     "metadata": {},
     "output_type": "execute_result",
     "execution_count": 545
    }
   ],
   "source": [
    "X_train"
   ],
   "metadata": {
    "collapsed": false,
    "pycharm": {
     "name": "#%%\n",
     "is_executing": false
    }
   }
  },
  {
   "cell_type": "code",
   "execution_count": 546,
   "outputs": [],
   "source": [
    "\n",
    "\n",
    "\n",
    "\n",
    "X_columns = ['Age', 'SibSp', 'Parch', 'Fare',\n",
    "       'cat_Male', 'cat_Female', 'cat_Pclass_1', 'cat_Embarked_Cherbourg', 'cat_Embarked_Southampton', 'cat_Embarked_Queenstown', \n",
    "       'cat_Pclass_2', 'cat_Pclass_3',  'Is_Alone', 'With_Nanny']\n",
    "\n",
    "\n",
    "\n",
    "X_train, X_test, X, X_final = X_train[X_columns], X_test[X_columns], X[X_columns], X_final[X_columns]\n",
    "\n",
    "\n",
    "\n"
   ],
   "metadata": {
    "collapsed": false,
    "pycharm": {
     "name": "#%%\n",
     "is_executing": false
    }
   }
  },
  {
   "cell_type": "code",
   "execution_count": 546,
   "outputs": [],
   "source": [],
   "metadata": {
    "collapsed": false,
    "pycharm": {
     "name": "#%%\n",
     "is_executing": false
    }
   }
  },
  {
   "cell_type": "code",
   "execution_count": 547,
   "outputs": [],
   "source": [
    "n_estimators = [int(x) for x in np.linspace(1,25,5)]\n",
    "max_depth = [6,8,10,12]\n",
    "min_samples_split = [2,5,10,15]\n",
    "min_samples_leaf = [1,2,4,8,16]\n",
    "max_features = [0.33, 'sqrt', 'log2']\n",
    "bootstrap = [True, False]\n",
    "random_state = [42]\n",
    "\n",
    "param_grid = {\n",
    "    'n_estimators': n_estimators,\n",
    "    'max_depth': max_depth,\n",
    "    'min_samples_split': min_samples_split,\n",
    "    'min_samples_leaf' : min_samples_leaf,\n",
    "    'max_features' : max_features,\n",
    "    'bootstrap' : bootstrap,\n",
    "    'random_state' : random_state\n",
    "}\n",
    "\n",
    "\n",
    "\n",
    "rf_Grid = GridSearchCV(estimator = RandomForestClassifier(), param_grid = param_grid, cv = 3, verbose=2, n_jobs = 4)\n",
    "#rf_Grid.fit(X_train, y)\n",
    "#rf_Grid.best_params_"
   ],
   "metadata": {
    "collapsed": false,
    "pycharm": {
     "name": "#%%\n",
     "is_executing": false
    }
   }
  },
  {
   "cell_type": "code",
   "execution_count": 548,
   "outputs": [],
   "source": [
    "\n",
    "model = RandomForestClassifier(bootstrap=False, max_depth=8, max_features=0.33,\n",
    "                       min_samples_split=5, n_estimators=10, random_state=42)"
   ],
   "metadata": {
    "collapsed": false,
    "pycharm": {
     "name": "#%%\n",
     "is_executing": false
    }
   }
  },
  {
   "cell_type": "code",
   "execution_count": 549,
   "outputs": [
    {
     "name": "stderr",
     "text": [
      "<ipython-input-549-32e7f29f4833>:2: DataConversionWarning: A column-vector y was passed when a 1d array was expected. Please change the shape of y to (n_samples,), for example using ravel().\n  model.fit(X_train, y_train)\n"
     ],
     "output_type": "stream"
    },
    {
     "data": {
      "text/plain": "0.8268156424581006"
     },
     "metadata": {},
     "output_type": "execute_result",
     "execution_count": 549
    }
   ],
   "source": [
    "# 0.7737226277372262, 0.8301176792556104\n",
    "model.fit(X_train, y_train)\n",
    "y_pred = model.predict(X_test)\n",
    "\n",
    "\n",
    "\n",
    "accuracy_score(y_test, y_pred)"
   ],
   "metadata": {
    "collapsed": false,
    "pycharm": {
     "name": "#%%\n",
     "is_executing": false
    }
   }
  },
  {
   "cell_type": "code",
   "execution_count": 550,
   "outputs": [
    {
     "data": {
      "text/plain": "<AxesSubplot:>"
     },
     "metadata": {},
     "output_type": "execute_result",
     "execution_count": 550
    },
    {
     "data": {
      "text/plain": "<Figure size 432x288 with 1 Axes>",
      "image/png": "[encoded data removed]"
     },
     "metadata": {},
     "output_type": "display_data"
    }
   ],
   "source": [
    "feat_importances = pd.Series(model.feature_importances_, index=X_columns)\n",
    "feat_importances.plot(kind='barh')"
   ],
   "metadata": {
    "collapsed": false,
    "pycharm": {
     "name": "#%%\n",
     "is_executing": false
    }
   }
  },
  {
   "cell_type": "code",
   "execution_count": 551,
   "outputs": [
    {
     "name": "stderr",
     "text": [
      "<ipython-input-551-430ed828abf2>:1: DataConversionWarning: A column-vector y was passed when a 1d array was expected. Please change the shape of y to (n_samples,), for example using ravel().\n  model.fit(X, y)\n"
     ],
     "output_type": "stream"
    },
    {
     "data": {
      "text/plain": "   PassengerId  Survived\n0          892         0\n1          893         0\n2          894         0\n3          895         0\n4          896         1",
      "text/html": "<div>\n<style scoped>\n    .dataframe tbody tr th:only-of-type {\n        vertical-align: middle;\n    }\n\n    .dataframe tbody tr th {\n        vertical-align: top;\n    }\n\n    .dataframe thead th {\n        text-align: right;\n    }\n</style>\n<table border=\"1\" class=\"dataframe\">\n  <thead>\n    <tr style=\"text-align: right;\">\n      <th></th>\n      <th>PassengerId</th>\n      <th>Survived</th>\n    </tr>\n  </thead>\n  <tbody>\n    <tr>\n      <th>0</th>\n      <td>892</td>\n      <td>0</td>\n    </tr>\n    <tr>\n      <th>1</th>\n      <td>893</td>\n      <td>0</td>\n    </tr>\n    <tr>\n      <th>2</th>\n      <td>894</td>\n      <td>0</td>\n    </tr>\n    <tr>\n      <th>3</th>\n      <td>895</td>\n      <td>0</td>\n    </tr>\n    <tr>\n      <th>4</th>\n      <td>896</td>\n      <td>1</td>\n    </tr>\n  </tbody>\n</table>\n</div>"
     },
     "metadata": {},
     "output_type": "execute_result",
     "execution_count": 551
    }
   ],
   "source": [
    "model.fit(X, y)\n",
    "y_final = model.predict(X_final)\n",
    "\n",
    "\n",
    "\n",
    "\n",
    "\n",
    "idss = np.arange(892,1310)\n",
    "ggggg = {\n",
    "    'PassengerId': idss,\n",
    "    'Survived': y_final\n",
    "}\n",
    "submit = pd.DataFrame(ggggg, columns =['PassengerId', 'Survived'])\n",
    "submit.to_csv('preds.csv', index=False)\n",
    "submit.head()\n",
    "\n",
    "\n",
    "\n"
   ],
   "metadata": {
    "collapsed": false,
    "pycharm": {
     "name": "#%%\n",
     "is_executing": false
    }
   }
  },
  {
   "cell_type": "code",
   "execution_count": 552,
   "outputs": [
    {
     "name": "stdout",
     "text": [
      "504                110152\n257                110152\n759                110152\n262                110413\n558                110413\n585                110413\n110                110465\n475                110465\n430                110564\n366                110813\n170                111240\n462                111320\n523                111361\n329                111361\n889                111369\n604                111426\n507                111427\n187                111428\n806                112050\n633                112052\n887                112053\n815                112058\n263                112059\n209                112277\n766                112379\n711                113028\n331                113043\n536                113050\n452                113051\n857                113055\n284                113056\n83                 113059\n782                113501\n377                113503\n166                113505\n356                113505\n54                 113509\n351                113510\n252                113514\n61                 113572\n829                113572\n435                113760\n390                113760\n802                113760\n763                113760\n185                113767\n748                113773\n336                113776\n151                113776\n708                113781\n305                113781\n297                113781\n498                113781\n11                 113783\n339                113784\n449                113786\n492                113787\n23                 113788\n383                113789\n35                 113789\n467                113792\n447                113794\n602                113796\n842                113798\n270                113798\n694                113800\n137                113803\n3                  113803\n607                113804\n809                113806\n724                113806\n555                113807\n41                  11668\n117                 11668\n248                 11751\n871                 11751\n136                 11752\n621                 11753\n556                 11755\n370                 11765\n879                 11767\n310                 11767\n571                 11769\n487                 11771\n839                 11774\n218                 11813\n291                 11967\n484                 11967\n722                 12233\n790                 12460\n520                 12749\n820                 12749\n583                 13049\n647                 13213\n632                 13214\n275                 13502\n627                 13502\n765                 13502\n434                 13507\n577                 13507\n456                 13509\n587                 13567\n539                 13568\n47                  14311\n573                 14312\n368                 14313\n588                 14973\n838                  1601\n643                  1601\n169                  1601\n509                  1601\n826                  1601\n692                  1601\n74                   1601\n319                 16966\n337                 16966\n740                 16988\n698                 17421\n306                 17421\n581                 17421\n550                 17421\n453                 17453\n849                 17453\n6                   17463\n457                 17464\n796                 17465\n862                 17466\n781                 17474\n690                 17474\n174                 17764\n290                 19877\n741                 19877\n412                 19928\n245                 19928\n224                 19943\n486                 19943\n55                  19947\n27                  19950\n438                 19950\n88                  19950\n341                 19950\n460                 19952\n822                 19972\n298                 19988\n712                 19996\n669                 19996\n426                  2003\n886                211536\n222                 21440\n562                218629\n626                219533\n221                220367\n615                220845\n754                220845\n834                  2223\n706                223596\n303                226593\n518                226875\n133                228414\n344                229236\n148                230080\n193                230080\n340                230080\n183                230136\n618                230136\n259                230433\n880                230433\n443                230434\n651                231919\n98                 231919\n144                231945\n734                233639\n864                233866\n463                234360\n190                234604\n666                234686\n322                234818\n228                236171\n865                236852\n728                236853\n232                237442\n586                237565\n635                237668\n357                237671\n9                  237736\n122                237736\n580                237789\n288                237798\n413                239853\n277                239853\n466                239853\n481                239854\n732                239855\n674                239856\n20                 239865\n791                239865\n399                240929\n730                 24160\n689                 24160\n779                 24160\n217                243847\n600                243847\n576                243880\n249                244252\n854                244252\n673                244270\n398                244278\n149                244310\n551                244358\n343                244361\n99                 244367\n316                244367\n17                 244373\n21                 248698\n15                 248706\n808                248723\n720                248727\n596                248727\n848                248727\n695                248731\n345                248733\n78                 248738\n323                248738\n342                248740\n199                248747\n723                250643\n446                250644\n272                250644\n213                250646\n714                250647\n800                250647\n747                250648\n755                250649\n247                250649\n312                250651\n417                250652\n178                250653\n427                250655\n705                250655\n553                  2620\n661                  2623\n522                  2624\n803                  2625\n367                  2626\n114                  2627\n495                  2627\n203                  2628\n859                  2629\n26                   2631\n530                 26360\n506                 26360\n531                  2641\n354                  2647\n378                  2648\n19                   2649\n255                  2650\n39                   2651\n125                  2651\n622                  2653\n381                  2653\n830                  2659\n620                  2659\n709                  2661\n65                   2661\n48                   2662\n762                  2663\n598                  2664\n111                  2665\n240                  2665\n448                  2666\n644                  2666\n469                  2666\n858                  2666\n875                  2667\n128                  2668\n533                  2668\n60                   2669\n236                 26707\n832                  2671\n693                  2672\n773                  2674\n36                   2677\n852                  2678\n140                  2678\n73                   2680\n843                  2683\n798                  2685\n568                  2686\n780                  2687\n578                  2689\n532                  2690\n362                  2691\n702                  2691\n296                  2693\n244                  2694\n352                  2695\n57                   2697\n207                  2699\n731                  2699\n524                  2700\n630                 27042\n123                 27267\n387                 27849\n861                 28134\n812                 28206\n795                 28213\n416                 28220\n418                 28228\n582                 28403\n397                 28403\n191                 28424\n733                 28425\n327                 28551\n405                 28664\n238                 28665\n317                 29011\n546                  2908\n543                  2908\n750                 29103\n529                 29104\n774                 29105\n831                 29106\n407                 29106\n437                 29106\n757                 29108\n53                   2926\n670                 29750\n684                 29750\n658                 29751\n202               3101264\n786               3101265\n371               3101267\n104               3101276\n392               3101277\n206               3101278\n85                3101278\n68                3101281\n266               3101295\n686               3101295\n50                3101295\n164               3101295\n824               3101295\n638               3101295\n528               3101296\n479               3101298\n476                 31027\n726                 31027\n619                 31028\n107                312991\n408                312992\n667                312993\n346                 31418\n158                315037\n422                315082\n534                315084\n500                315086\n349                315088\n471                315089\n844                315090\n163                315093\n725                315094\n404                315096\n836                315097\n821                315098\n69                 315151\n184                315153\n470                323592\n372                323951\n112                324669\n5                  330877\n502                330909\n653                330919\n22                 330923\n358                330931\n82                 330932\n680                330935\n44                 330958\n28                 330959\n552                330979\n359                330980\n629                334912\n749                335097\n32                 335677\n445                 33638\n280                336439\n584                  3411\n401                341826\n717                 34218\n676                342826\n415                343095\n106                343120\n89                 343275\n90                 343276\n326                345364\n559                345572\n18                 345763\n333                345764\n38                 345764\n873                345765\n80                 345767\n441                345769\n200                345770\n595                345773\n419                345773\n799                345773\n286                345774\n868                345777\n282                345778\n81                 345779\n752                345780\n770                345781\n355                345783\n477                  3460\n251                347054\n205                347054\n851                347060\n129                347061\n719                347062\n805                347063\n406                347064\n231                347067\n162                347068\n379                347069\n246                347071\n276                347073\n764                347074\n442                347076\n233                347077\n25                 347077\n182                347077\n261                347077\n775                347078\n423                347080\n616                347080\n141                347081\n541                347082\n542                347082\n119                347082\n850                347082\n813                347082\n610                347082\n13                 347082\n267                347083\n554                347085\n807                347087\n819                347088\n634                347088\n642                347088\n360                347088\n167                347088\n63                 347088\n804                347089\n810                  3474\n281                347464\n91                 347466\n833                347468\n315                347470\n869                347742\n172                347742\n8                  347742\n631                347743\n699                348121\n75                 348123\n715                348124\n738                349201\n794                349203\n753                349204\n566                349205\n287                349206\n105                349207\n76                 349208\n514                349209\n663                349210\n877                349212\n847                349213\n601                349214\n101                349215\n29                 349216\n878                349217\n739                349218\n321                349219\n650                349221\n410                349222\n656                349223\n628                349224\n335                349225\n384                349227\n687                349228\n646                349231\n294                349233\n223                349234\n293                349236\n353                349237\n49                 349237\n285                349239\n455                349240\n130                349241\n519                349242\n313                349243\n797                349244\n100                349245\n606                349246\n189                349247\n870                349248\n108                349249\n561                349251\n521                349252\n42                 349253\n420                349254\n691                349256\n881                349257\n7                  349909\n567                349909\n24                 349909\n374                349909\n605                349910\n675                349912\n704                350025\n860                350026\n623                350029\n391                350034\n499                350035\n688                350036\n756                350042\n146                350043\n192                350046\n771                350047\n721                350048\n640                350050\n395                350052\n478                350060\n175                350404\n14                 350406\n396                350407\n569                350417\n659                 35273\n215                 35273\n393                 35273\n102                 35281\n124                 35281\n156                 35851\n697                 35852\n760                358585\n575                358585\n468                 36209\n250                362316\n165                363291\n548                363291\n328                363291\n758                363294\n696                363592\n538                364498\n814                364499\n94                 364500\n461                364506\n603                364511\n614                364512\n777                364516\n79                 364516\n501                364846\n593                364848\n188                364849\n657                364849\n767                364850\n428                364851\n143                365222\n654                365226\n718                 36568\n301                367226\n330                367226\n828                367228\n214                367229\n241                367230\n612                367230\n208                367231\n525                367232\n388                367655\n825                368323\n703                 36864\n778                 36865\n727                 36866\n196                368703\n318                 36928\n856                 36928\n496                 36947\n591                 36947\n625                 36963\n515                 36967\n230                 36973\n62                  36973\n254                370129\n424                370129\n186                370365\n364                370365\n116                370369\n198                370370\n46                 370371\n126                370372\n289                370373\n274                370375\n890                370376\n613                370377\n459                371060\n109                371110\n517                371110\n768                371110\n160                371362\n560                372622\n4                  373450\n77                 374746\n785                374887\n95                 374910\n639                376564\n431                376564\n743                376566\n264                382649\n510                382651\n885                382652\n171                382652\n278                382652\n16                 382652\n787                382652\n776                383121\n260                384461\n347                386525\n855                392091\n837                392092\n823                392096\n751                392096\n411                394140\n176                  4133\n409                  4133\n229                  4133\n485                  4133\n483                  4134\n503                  4135\n113                  4136\n402                  4137\n677                  4138\n197                  4579\n624                 54636\n735                 54636\n662                  5727\n451                 65303\n490                 65304\n444                 65306\n682                  6563\n545                   693\n872                   695\n350                  7267\n138                  7534\n876                  7534\n103                  7540\n713                  7545\n40                   7546\n882                  7552\n474                  7553\n338                  7598\n769                  8471\n652                  8475\n300                  9234\n37             A./5. 2152\n589            A./5. 3235\n152            A.5. 11206\n488            A.5. 18509\n494             A/4 45380\n565             A/4 48871\n811             A/4 48871\n574            A/4. 20589\n425            A/4. 34244\n51             A/4. 39886\n0               A/5 21171\n320             A/5 21172\n227             A/5 21173\n212             A/5 21174\n304              A/5 2466\n454              A/5 2817\n668              A/5 3536\n204              A/5 3540\n482              A/5 3594\n592              A/5 3902\n283            A/5. 10482\n421            A/5. 13032\n12              A/5. 2151\n617             A/5. 3336\n253             A/5. 3336\n132             A/5. 3337\n153              A/5. 851\n464              A/S 2816\n121             A4. 54510\n127               C 17369\n508                C 4001\n818                C 7075\n365                C 7076\n376                C 7077\n265            C.A. 17248\n439            C.A. 18723\n93              C.A. 2315\n788             C.A. 2315\n33             C.A. 24579\n672            C.A. 24580\n279             C.A. 2673\n746             C.A. 2673\n134            C.A. 29178\n66             C.A. 29395\n234            C.A. 29566\n56             C.A. 31026\n801            C.A. 31921\n237            C.A. 31921\n637            C.A. 31921\n70             C.A. 33111\n145            C.A. 33112\n549            C.A. 33112\n161            C.A. 33595\n516            C.A. 34260\n450            C.A. 34651\n472            C.A. 34651\n58             C.A. 34651\n489            C.A. 37671\n348            C.A. 37671\n845             C.A. 5547\n497             C.A. 6212\n883      C.A./SOTON 34068\n683               CA 2144\n678               CA 2144\n59                CA 2144\n386               CA 2144\n71                CA 2144\n480               CA 2144\n649              CA. 2314\n180              CA. 2343\n792              CA. 2343\n324              CA. 2343\n863              CA. 2343\n201              CA. 2343\n846              CA. 2343\n159              CA. 2343\n671            F.C. 12750\n211          F.C.C. 13528\n535          F.C.C. 13529\n440          F.C.C. 13529\n314          F.C.C. 13529\n458          F.C.C. 13531\n154             Fa 265302\n271                  LINE\n179                  LINE\n597                  LINE\n302                  LINE\n308             P/PP 3381\n874             P/PP 3381\n168              PC 17318\n512              PC 17473\n572              PC 17474\n701              PC 17475\n707              PC 17476\n369              PC 17477\n641              PC 17477\n710              PC 17482\n527              PC 17483\n309              PC 17485\n599              PC 17485\n299              PC 17558\n118              PC 17558\n31               PC 17569\n195              PC 17569\n681              PC 17572\n645              PC 17572\n52               PC 17572\n268              PC 17582\n332              PC 17582\n609              PC 17582\n256              PC 17585\n867              PC 17590\n853              PC 17592\n139              PC 17593\n789              PC 17593\n177              PC 17595\n273              PC 17596\n155              PC 17597\n1                PC 17599\n793              PC 17600\n30               PC 17601\n513              PC 17603\n375              PC 17604\n34               PC 17604\n64               PC 17605\n742              PC 17608\n311              PC 17608\n493              PC 17609\n194              PC 17610\n660              PC 17611\n334              PC 17611\n295              PC 17612\n96               PC 17754\n737              PC 17755\n258              PC 17755\n679              PC 17755\n835              PC 17756\n557              PC 17757\n716              PC 17757\n380              PC 17757\n700              PC 17757\n505              PC 17758\n307              PC 17758\n97               PC 17759\n269              PC 17760\n373              PC 17760\n325              PC 17760\n544              PC 17761\n537              PC 17761\n225               PP 4348\n394               PP 9549\n10                PP 9549\n45        S.C./A.4. 23567\n817       S.C./PARIS 2079\n827       S.C./PARIS 2079\n772           S.O./P.P. 3\n841           S.O./P.P. 3\n648         S.O./P.P. 751\n655          S.O.C. 14879\n120          S.O.C. 14879\n72           S.O.C. 14879\n665          S.O.C. 14879\n385          S.O.C. 14879\n150           S.O.P. 1166\n67              S.P. 3464\n570           S.W./PP 752\n389               SC 1748\n594           SC/AH 29037\n432            SC/AH 3085\n473       SC/AH Basle 541\n181         SC/PARIS 2131\n135         SC/PARIS 2133\n547         SC/PARIS 2146\n866         SC/PARIS 2149\n361         SC/PARIS 2167\n43          SC/Paris 2123\n685         SC/Paris 2123\n608         SC/Paris 2123\n292         SC/Paris 2163\n239            SCO/W 1585\n84             SO/C 14885\n611    SOTON/O.Q. 3101305\n465    SOTON/O.Q. 3101306\n131    SOTON/O.Q. 3101307\n363    SOTON/O.Q. 3101310\n210    SOTON/O.Q. 3101311\n784    SOTON/O.Q. 3101312\n429     SOTON/O.Q. 392078\n564     SOTON/O.Q. 392087\n761      SOTON/O2 3101272\n840      SOTON/O2 3101287\n511      SOTON/OQ 3101316\n491      SOTON/OQ 3101317\n884       SOTON/OQ 392076\n563       SOTON/OQ 392082\n87        SOTON/OQ 392086\n220       SOTON/OQ 392089\n157       SOTON/OQ 392090\n414     STON/O 2. 3101269\n590     STON/O 2. 3101273\n433     STON/O 2. 3101274\n243     STON/O 2. 3101275\n173     STON/O 2. 3101280\n664     STON/O 2. 3101285\n579     STON/O 2. 3101286\n744     STON/O 2. 3101288\n400     STON/O 2. 3101289\n636     STON/O 2. 3101292\n382     STON/O 2. 3101293\n115     STON/O 2. 3101294\n729      STON/O2. 3101271\n142      STON/O2. 3101279\n403      STON/O2. 3101279\n2        STON/O2. 3101282\n216      STON/O2. 3101283\n816      STON/O2. 3101290\n226             SW/PP 751\n526           W./C. 14258\n242           W./C. 14263\n783            W./C. 6607\n888            W./C. 6607\n147            W./C. 6608\n436            W./C. 6608\n86             W./C. 6608\n736            W./C. 6608\n235            W./C. 6609\n92            W.E.P. 5734\n219             W/C 14208\n540             WE/P 5735\n745             WE/P 5735\nName: Ticket, dtype: object\n"
     ],
     "output_type": "stream"
    }
   ],
   "source": [
    "\n",
    "def print_full(x):\n",
    "    pd.set_option('display.max_rows', len(x))\n",
    "    print(x)\n",
    "    pd.reset_option('display.max_rows')\n",
    "    \n",
    "print_full(df['Ticket'].sort_values())"
   ],
   "metadata": {
    "collapsed": false,
    "pycharm": {
     "name": "#%%\n",
     "is_executing": false
    }
   }
  }
 ],
 "metadata": {
  "kernelspec": {
   "display_name": "Python 3",
   "language": "python",
   "name": "python3"
  },
  "language_info": {
   "codemirror_mode": {
    "name": "ipython",
    "version": 2
   },
   "file_extension": ".py",
   "mimetype": "text/x-python",
   "name": "python",
   "nbconvert_exporter": "python",
   "pygments_lexer": "ipython2",
   "version": "2.7.6"
  },
  "pycharm": {
   "stem_cell": {
    "cell_type": "raw",
    "source": [],
    "metadata": {
     "collapsed": false
    }
   }
  }
 },
 "nbformat": 4,
 "nbformat_minor": 0
}